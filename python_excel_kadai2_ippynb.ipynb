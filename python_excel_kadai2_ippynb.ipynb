{
  "nbformat": 4,
  "nbformat_minor": 0,
  "metadata": {
    "colab": {
      "provenance": [],
      "authorship_tag": "ABX9TyOlb0Y9Bfj+pm5Y2dlYFKP5",
      "include_colab_link": true
    },
    "kernelspec": {
      "name": "python3",
      "display_name": "Python 3"
    },
    "language_info": {
      "name": "python"
    }
  },
  "cells": [
    {
      "cell_type": "markdown",
      "metadata": {
        "id": "view-in-github",
        "colab_type": "text"
      },
      "source": [
        "<a href=\"https://colab.research.google.com/github/sallytakeda/python-excel-kadai/blob/main/python_excel_kadai2_ippynb.ipynb\" target=\"_parent\"><img src=\"https://colab.research.google.com/assets/colab-badge.svg\" alt=\"Open In Colab\"/></a>"
      ]
    },
    {
      "cell_type": "code",
      "execution_count": 1,
      "metadata": {
        "colab": {
          "base_uri": "https://localhost:8080/"
        },
        "id": "h8Aj5psgYnRQ",
        "outputId": "7d37556e-336e-4fa2-be56-c7c4b00eff49"
      },
      "outputs": [
        {
          "output_type": "stream",
          "name": "stdout",
          "text": [
            "業績.xlsx を作成しました。\n"
          ]
        }
      ],
      "source": [
        "import pandas as pd\n",
        "\n",
        "# 元データ作成\n",
        "data = {\n",
        "    \"日付\": [\"2023-05-17\", \"2023-05-18\", \"2023-05-19\", \"2023-05-20\", \"2023-05-21\"],\n",
        "    \"社員名\": [\"山田\", \"佐藤\", \"鈴木\", \"田中\", \"高橋\"],\n",
        "    \"売上\": [100, 200, 150, 300, 250],\n",
        "    \"部門\": [\"メーカー\", \"代理店\", \"メーカー\", \"商社\", \"代理店\"]\n",
        "}\n",
        "\n",
        "# DataFrameを作成\n",
        "df = pd.DataFrame(data)\n",
        "\n",
        "# 全体の平均売上を算出\n",
        "avg_sales = df[\"売上\"].mean()\n",
        "\n",
        "# 「平均売上」列を追加（全員に同じ平均値を記入）\n",
        "df[\"平均売上\"] = avg_sales\n",
        "\n",
        "# 業績ランクを判定する関数\n",
        "def performance(sales, avg):\n",
        "    if sales >= avg + 50:\n",
        "        return \"A\"\n",
        "    elif sales >= avg:\n",
        "        return \"B\"\n",
        "    else:\n",
        "        return \"C\"\n",
        "\n",
        "# 「業績ランク」列を追加\n",
        "df[\"業績ランク\"] = df[\"売上\"].apply(lambda x: performance(x, avg_sales))\n",
        "\n",
        "# Excelファイルに出力\n",
        "df.to_excel(\"業績.xlsx\", index=False)\n",
        "\n",
        "print(\"業績.xlsx を作成しました。\")\n"
      ]
    }
  ]
}