{
  "nbformat": 4,
  "nbformat_minor": 0,
  "metadata": {
    "colab": {
      "provenance": [],
      "authorship_tag": "ABX9TyOKX1+oopY8wUVeleIiLVgL",
      "include_colab_link": true
    },
    "kernelspec": {
      "name": "python3",
      "display_name": "Python 3"
    },
    "language_info": {
      "name": "python"
    }
  },
  "cells": [
    {
      "cell_type": "markdown",
      "metadata": {
        "id": "view-in-github",
        "colab_type": "text"
      },
      "source": [
        "<a href=\"https://colab.research.google.com/github/sallytakeda/python-excel-kadai/blob/main/Practice.ipynb\" target=\"_parent\"><img src=\"https://colab.research.google.com/assets/colab-badge.svg\" alt=\"Open In Colab\"/></a>"
      ]
    },
    {
      "cell_type": "code",
      "source": [],
      "metadata": {
        "id": "re69Hhf4Ejo_"
      },
      "execution_count": null,
      "outputs": []
    },
    {
      "cell_type": "code",
      "source": [
        "import pandas as pd\n",
        "from collections import defaultdict\n",
        "\n",
        "# ファイル名のリスト\n",
        "files = [\n",
        "    \"order_A_20230524.xlsx\",\n",
        "    \"order_B_20230524.xlsx\",\n",
        "    \"order_C_20230524.xlsx\",\n",
        "    \"order_D_20230524.xlsx\"\n",
        "]\n",
        "\n",
        "# 野菜ごとの合計を格納する辞書\n",
        "vegetable_totals = defaultdict(float)\n",
        "\n",
        "# 各ファイルを処理\n",
        "for file in files:\n",
        "    df = pd.read_excel(file, header=None)\n",
        "\n",
        "    # 1行目に野菜名、2行目に数量が並んでいる形式を処理\n",
        "    vegetables = df.iloc[0]  # 野菜名の行\n",
        "    quantities = df.iloc[1]  # 数量の行\n",
        "\n",
        "    for veg, qty in zip(vegetables, quantities):\n",
        "        if pd.notna(veg) and pd.notna(qty):\n",
        "            vegetable_totals[str(veg).strip()] += float(qty)\n",
        "\n",
        "# 結果を表示（単位なし）\n",
        "print(\"野菜ごとの発注合計:\")\n",
        "for vegetable, total in vegetable_totals.items():\n",
        "    print(f\"{vegetable}: {total}\")"
      ],
      "metadata": {
        "colab": {
          "base_uri": "https://localhost:8080/"
        },
        "id": "6M4ViKijP7JJ",
        "outputId": "814d906d-b5a3-4dc8-9bee-25cfd994a60d"
      },
      "execution_count": 13,
      "outputs": [
        {
          "output_type": "stream",
          "name": "stdout",
          "text": [
            "野菜ごとの発注合計:\n",
            "トマト: 31.0\n",
            "キャベツ: 21.0\n",
            "レタス: 42.0\n",
            "白菜: 25.0\n",
            "ほうれん草: 23.0\n",
            "大根: 15.0\n",
            "ニンジン: 32.0\n"
          ]
        }
      ]
    },
    {
      "cell_type": "code",
      "source": [
        "import pandas as pd\n",
        "\n",
        "# Excelファイルを読み込む（ヘッダーありと仮定）\n",
        "df = pd.read_excel(\"inventory.xlsx\")\n",
        "\n",
        "# 最終行のインデックスを取得\n",
        "last_row = df.iloc[-1]\n",
        "\n",
        "# 日付と在庫データを分離（1列目が日付と仮定）\n",
        "date = last_row.iloc[0]\n",
        "stock_data = last_row.iloc[1:]\n",
        "\n",
        "# 結果を表示\n",
        "print(f\"最新在庫状況（{date}）:\")\n",
        "for vegetable, stock in stock_data.items():\n",
        "    print(f\"{vegetable}: {stock}\")"
      ],
      "metadata": {
        "colab": {
          "base_uri": "https://localhost:8080/"
        },
        "id": "3aY2zRK1cn3N",
        "outputId": "59a5f09d-2dfb-408d-d689-af8d8402c8ad"
      },
      "execution_count": 15,
      "outputs": [
        {
          "output_type": "stream",
          "name": "stdout",
          "text": [
            "最新在庫状況（2023-05-14 00:00:00）:\n",
            "曜日: Sun\n",
            "トマト: 91\n",
            "キャベツ: 73\n",
            "レタス: 103\n",
            "白菜: 84\n",
            "ほうれん草: 75\n",
            "大根: 48\n",
            "ニンジン: 50\n"
          ]
        }
      ]
    },
    {
      "cell_type": "code",
      "source": [
        "import pandas as pd\n",
        "\n",
        "# Excelファイルを読み込む（ヘッダーありと仮定）\n",
        "df = pd.read_excel(\"pickup.xlsx\")\n",
        "\n",
        "# 最終行の1つ前が最新の在庫、最終行がしきい値と仮定\n",
        "latest_stock = df.iloc[-2]\n",
        "thresholds = df.iloc[-1]\n",
        "\n",
        "# 発注が必要な野菜を抽出\n",
        "order_list = {}\n",
        "for vegetable in df.columns[1:]:  # 1列目は日付と仮定\n",
        "    stock = latest_stock[vegetable]\n",
        "    threshold = thresholds[vegetable]\n",
        "    if pd.notna(stock) and pd.notna(threshold) and stock < threshold:\n",
        "        order_list[vegetable] = threshold - stock\n",
        "\n",
        "# 結果を表示\n",
        "print(\"発注が必要な野菜と数量:\")\n",
        "for vegetable, amount in order_list.items():\n",
        "    print(f\"{vegetable}: {amount}\")"
      ],
      "metadata": {
        "colab": {
          "base_uri": "https://localhost:8080/"
        },
        "id": "rVxLLKEodh_h",
        "outputId": "9328225d-1e8d-42e3-aafc-d85efafde68d"
      },
      "execution_count": 17,
      "outputs": [
        {
          "output_type": "stream",
          "name": "stdout",
          "text": [
            "発注が必要な野菜と数量:\n",
            "トマト: 50\n",
            "キャベツ: 40\n",
            "レタス: 50\n",
            "白菜: 30\n",
            "ほうれん草: 40\n",
            "大根: 30\n",
            "ニンジン: 40\n"
          ]
        }
      ]
    },
    {
      "cell_type": "code",
      "source": [
        "# 野菜名と発注数を辞書で定義\n",
        "order_items = {\n",
        "    \"トマト\": 15,\n",
        "    \"キャベツ\": 8,\n",
        "    \"ほうれん草\": 12\n",
        "}\n",
        "\n",
        "# メール本文のテンプレート\n",
        "email_body = \"いつもお世話になっております。\\n以下の野菜について、発注をお願いいたします。\\n\\n\"\n",
        "\n",
        "# 野菜ごとの発注内容を追加\n",
        "for vegetable, quantity in order_items.items():\n",
        "    email_body += f\"{vegetable}: {quantity}kg\\n\"\n",
        "\n",
        "# 締めの挨拶\n",
        "email_body += \"\\nご対応のほどよろしくお願いいたします。\\n\\n---\\nSaori（野菜卸）\"\n",
        "\n",
        "# 結果を表示\n",
        "print(email_body)"
      ],
      "metadata": {
        "colab": {
          "base_uri": "https://localhost:8080/"
        },
        "id": "MG1Idt-afLdV",
        "outputId": "6f045438-3b57-4c25-c0fe-15db1432dc5c"
      },
      "execution_count": 18,
      "outputs": [
        {
          "output_type": "stream",
          "name": "stdout",
          "text": [
            "いつもお世話になっております。\n",
            "以下の野菜について、発注をお願いいたします。\n",
            "\n",
            "トマト: 15kg\n",
            "キャベツ: 8kg\n",
            "ほうれん草: 12kg\n",
            "\n",
            "ご対応のほどよろしくお願いいたします。\n",
            "\n",
            "---\n",
            "Saori（野菜卸）\n"
          ]
        }
      ]
    },
    {
      "cell_type": "code",
      "source": [
        "import pandas as pd\n",
        "from datetime import datetime\n",
        "\n",
        "# ① inventory.xlsx を読み込む\n",
        "inventory_df = pd.read_excel(\"inventory.xlsx\")\n",
        "\n",
        "# ② 最新の在庫（最終行）を取得\n",
        "latest_stock = inventory_df.iloc[-1].copy()\n",
        "\n",
        "# ③ 現在の日付を取得\n",
        "today = datetime.today().strftime(\"%Y-%m-%d\")\n",
        "latest_stock[\"日付\"] = today  # 日付列があると仮定\n",
        "\n",
        "# ④ 合計注文数（別途集計された辞書）を定義\n",
        "order_totals = {\n",
        "    \"トマト\": 31.0,\n",
        "    \"キャベツ\": 12.0,\n",
        "    \"レタス\": 8.0,\n",
        "    \"白菜\": 10.0,\n",
        "    \"ほうれん草\": 6.0,\n",
        "    \"大根\": 14.0,\n",
        "    \"ニンジン\": 9.0\n",
        "}\n",
        "\n",
        "# ⑤ 在庫から注文数を差し引いて予測在庫を計算\n",
        "for vegetable in order_totals:\n",
        "    if vegetable in latest_stock:\n",
        "        latest_stock[vegetable] = max(latest_stock[vegetable] - order_totals[vegetable], 0)\n",
        "\n",
        "# ⑥ 新しい行として追加\n",
        "inventory_df = pd.concat([inventory_df, pd.DataFrame([latest_stock])], ignore_index=True)\n",
        "\n",
        "# ⑦ Excelファイルを上書き保存\n",
        "inventory_df.to_excel(\"inventory.xlsx\", index=False)\n",
        "\n",
        "print(\"最新の在庫情報を更新し、inventory.xlsx に保存しました。\")"
      ],
      "metadata": {
        "colab": {
          "base_uri": "https://localhost:8080/"
        },
        "id": "0OI2PzSKhrEB",
        "outputId": "699e30fa-67de-4d75-c218-da8830c4246f"
      },
      "execution_count": 19,
      "outputs": [
        {
          "output_type": "stream",
          "name": "stdout",
          "text": [
            "最新の在庫情報を更新し、inventory.xlsx に保存しました。\n"
          ]
        }
      ]
    }
  ]
}