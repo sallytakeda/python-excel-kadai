{
  "nbformat": 4,
  "nbformat_minor": 0,
  "metadata": {
    "colab": {
      "provenance": [],
      "authorship_tag": "ABX9TyNny23JnO2BzWwAs7V7wuOh",
      "include_colab_link": true
    },
    "kernelspec": {
      "name": "python3",
      "display_name": "Python 3"
    },
    "language_info": {
      "name": "python"
    }
  },
  "cells": [
    {
      "cell_type": "markdown",
      "metadata": {
        "id": "view-in-github",
        "colab_type": "text"
      },
      "source": [
        "<a href=\"https://colab.research.google.com/github/sallytakeda/python-excel-kadai/blob/main/auto_order_py.ipynb\" target=\"_parent\"><img src=\"https://colab.research.google.com/assets/colab-badge.svg\" alt=\"Open In Colab\"/></a>"
      ]
    },
    {
      "cell_type": "markdown",
      "source": [],
      "metadata": {
        "id": "KBUwe_zJCTzJ"
      }
    },
    {
      "cell_type": "code",
      "source": [
        "import pandas as pd\n",
        "from collections import defaultdict\n",
        "\n",
        "# ファイル名一覧\n",
        "order_files = [\n",
        "    \"order_A_20230524.xlsx\",\n",
        "    \"order_B_20230524.xlsx\",\n",
        "    \"order_C_20230524.xlsx\",\n",
        "    \"order_D_20230524.xlsx\"\n",
        "]\n",
        "# ======== 集計処理 ========\n",
        "# 各注文ファイルを読み込み、1つのDataFrameにまとめる\n",
        "df_list = []\n",
        "for f in order_files:\n",
        "    path =  f\n",
        "    df = pd.read_excel(path)\n",
        "    df_list.append(df)\n",
        "\n",
        "# 全部の注文を縦に結合\n",
        "all_orders = pd.concat(df_list, ignore_index=True)\n",
        "\n",
        "print(all_orders)\n",
        "\n",
        "# 野菜ごとに合計\n",
        "summary = all_orders.sum()\n",
        "\n",
        "print(summary)\n",
        "\n"
      ],
      "metadata": {
        "colab": {
          "base_uri": "https://localhost:8080/"
        },
        "id": "mG0l1nsWtC6d",
        "outputId": "e5496310-f6a1-4c55-b156-a575970760de"
      },
      "execution_count": 1,
      "outputs": [
        {
          "output_type": "stream",
          "name": "stdout",
          "text": [
            "    トマト  キャベツ  レタス   白菜  ほうれん草   大根  ニンジン\n",
            "0  13.0   6.0   11  8.0    9.0  NaN   NaN\n",
            "1   NaN   NaN   12  8.0   10.0  7.0  13.0\n",
            "2   6.0   NaN   11  9.0    NaN  8.0  12.0\n",
            "3  12.0  15.0    8  NaN    4.0  NaN   7.0\n",
            "トマト      31.0\n",
            "キャベツ     21.0\n",
            "レタス      42.0\n",
            "白菜       25.0\n",
            "ほうれん草    23.0\n",
            "大根       15.0\n",
            "ニンジン     32.0\n",
            "dtype: float64\n"
          ]
        }
      ]
    },
    {
      "cell_type": "code",
      "source": [
        "import pandas as pd\n",
        "\n",
        "# 在庫表ファイルの読み込み\n",
        "inventory_file = \"inventory.xlsx\"\n",
        "df = pd.read_excel(inventory_file)\n",
        "\n",
        "# 最終行の抽出\n",
        "latest_inventory = df.iloc[-1,2:]\n",
        "\n",
        "print(latest_inventory)"
      ],
      "metadata": {
        "colab": {
          "base_uri": "https://localhost:8080/"
        },
        "id": "t3AI57H9tItZ",
        "outputId": "4c24778e-7ff8-4086-db62-841dcc4975c4"
      },
      "execution_count": 2,
      "outputs": [
        {
          "output_type": "stream",
          "name": "stdout",
          "text": [
            "トマト       91\n",
            "キャベツ      73\n",
            "レタス      103\n",
            "白菜        84\n",
            "ほうれん草     75\n",
            "大根        48\n",
            "ニンジン      50\n",
            "Name: 13, dtype: object\n"
          ]
        }
      ]
    },
    {
      "cell_type": "code",
      "source": [
        "# @title\n",
        "remaining_stock=latest_inventory-summary\n",
        "print(remaining_stock)\n",
        "\n",
        "# pickup.xlsxからしきい値を読み込む\n",
        "pickup_df = pd.read_excel(\"pickup.xlsx\", header=None)\n",
        "\n",
        "# 野菜名・しきい値・発注量の抽出\n",
        "vegetables = pickup_df.loc[0]\n",
        "thresholds = pickup_df.loc[1]\n",
        "\n",
        "# 発注が必要な野菜を特定\n",
        "reorder_targets = {}\n",
        "for veg, threshold in zip(vegetables, thresholds):\n",
        "    stock = remaining_stock.get(veg, None)\n",
        "    if stock is not None and stock < threshold:\n",
        "        reorder_targets[veg] = {\n",
        "            \"在庫\": stock,\n",
        "            \"しきい値\": threshold\n",
        "        }\n",
        "\n",
        "# 結果表示\n",
        "print(\"📉 在庫がしきい値を下回った野菜一覧:\")\n",
        "for veg, info in reorder_targets.items():\n",
        "    print(f\"{veg}: 在庫 {info['在庫']} kg < しきい値 {info['しきい値']} kg → 発注対象\")\n",
        "\n"
      ],
      "metadata": {
        "colab": {
          "base_uri": "https://localhost:8080/"
        },
        "id": "dbV5J7fuup34",
        "outputId": "337eafbb-d6e1-4645-95df-2c311d0d6664"
      },
      "execution_count": 3,
      "outputs": [
        {
          "output_type": "stream",
          "name": "stdout",
          "text": [
            "トマト      60.0\n",
            "キャベツ     52.0\n",
            "レタス      61.0\n",
            "白菜       59.0\n",
            "ほうれん草    52.0\n",
            "大根       33.0\n",
            "ニンジン     18.0\n",
            "dtype: object\n",
            "📉 在庫がしきい値を下回った野菜一覧:\n",
            "ニンジン: 在庫 18.0 kg < しきい値 40 kg → 発注対象\n"
          ]
        }
      ]
    },
    {
      "cell_type": "code",
      "source": [
        "\n",
        "# メール文のテンプレート生成\n",
        "def generate_order_email(reorder_dict):\n",
        "    email_body = \"件名：野菜の追加発注のご連絡\\n\\n\"\n",
        "    email_body += \"いつもお世話になっております。\\n\"\n",
        "    email_body += \"以下の野菜について、在庫がしきい値を下回ったため、追加発注をお願い申し上げます。\\n\\n\"\n",
        "    email_body += \"【発注内容】\\n\"\n",
        "\n",
        "    for vegetable, amount in reorder_dict.items():\n",
        "        email_body += f\"・{vegetable}: {amount} kg\\n\"\n",
        "\n",
        "    email_body += \"\\nお手数ですが、明日午前中までの納品をお願いできれば幸いです。\\n\"\n",
        "    email_body += \"何卒よろしくお願いいたします。\\n\\n\"\n",
        "    email_body += \"野菜卸売り会社\\n担当：佐織\\n\"\n",
        "\n",
        "    return email_body\n",
        "\n",
        "# 発注量を計算してメール用の辞書を作成\n",
        "reorder_list = {}\n",
        "for veg, info in reorder_targets.items():\n",
        "    order_amount = info[\"しきい値\"] - info[\"在庫\"]\n",
        "    reorder_list[veg] = order_amount\n",
        "\n",
        "# メール文の表示\n",
        "order_email = generate_order_email(reorder_list)\n",
        "print(order_email)"
      ],
      "metadata": {
        "colab": {
          "base_uri": "https://localhost:8080/"
        },
        "id": "r2Y-Y2V_wSPd",
        "outputId": "2a085455-eee1-4f7c-d771-6cf72b378d53"
      },
      "execution_count": 5,
      "outputs": [
        {
          "output_type": "stream",
          "name": "stdout",
          "text": [
            "件名：野菜の追加発注のご連絡\n",
            "\n",
            "いつもお世話になっております。\n",
            "以下の野菜について、在庫がしきい値を下回ったため、追加発注をお願い申し上げます。\n",
            "\n",
            "【発注内容】\n",
            "・ニンジン: 22.0 kg\n",
            "\n",
            "お手数ですが、明日午前中までの納品をお願いできれば幸いです。\n",
            "何卒よろしくお願いいたします。\n",
            "\n",
            "野菜卸売り会社\n",
            "担当：佐織\n",
            "\n"
          ]
        }
      ]
    },
    {
      "cell_type": "code",
      "source": [
        "import pandas as pd\n",
        "from datetime import datetime\n",
        "\n",
        "# === ① 既存の在庫表を読み込み ===\n",
        "inventory_file = \"inventory.xlsx\"\n",
        "inventory_df = pd.read_excel(inventory_file)\n",
        "\n",
        "# === ② 最新の在庫情報と注文合計を取得 ===\n",
        "# 最新の在庫（前回の在庫）\n",
        "latest_inventory = inventory_df.iloc[-1, 2:]  # 2列目以降が野菜列\n",
        "\n",
        "# 注文合計（前工程で作成済みの summary を使用）\n",
        "# summary = all_orders.sum() が前提\n",
        "\n",
        "# === ③ 最新在庫を計算 ===\n",
        "updated_inventory = latest_inventory - summary\n",
        "\n",
        "# === ④ 新しい行を作成 ===\n",
        "today = datetime.today().strftime(\"%Y-%m-%d\")\n",
        "new_row = pd.DataFrame([[len(inventory_df)+1, today] + updated_inventory.tolist()],\n",
        "                       columns=inventory_df.columns)\n",
        "\n",
        "# === ⑤ 在庫表に追加して保存 ===\n",
        "inventory_df = pd.concat([inventory_df, new_row], ignore_index=True)\n",
        "inventory_df.to_excel(inventory_file, index=False)\n",
        "\n",
        "print(\"✅ 在庫表を更新しました。\")"
      ],
      "metadata": {
        "colab": {
          "base_uri": "https://localhost:8080/"
        },
        "id": "HX0MDdLRJSrw",
        "outputId": "e2447f72-fd14-45e2-8ce2-bac9101f6b1a"
      },
      "execution_count": 6,
      "outputs": [
        {
          "output_type": "stream",
          "name": "stdout",
          "text": [
            "✅ 在庫表を更新しました。\n"
          ]
        }
      ]
    },
    {
      "cell_type": "code",
      "source": [
        "# auto_order.py\n",
        "import pandas as pd\n",
        "from datetime import datetime\n",
        "\n",
        "# === 1. 注文ファイルの集計 ===\n",
        "order_files = [\"order_A_20230524.xlsx\", \"order_B_20230524.xlsx\", \"order_C_20230524.xlsx\", \"order_D_20230524.xlsx\"]\n",
        "df_list = [pd.read_excel(f) for f in order_files]\n",
        "all_orders = pd.concat(df_list, ignore_index=True)\n",
        "summary = all_orders.sum()\n",
        "\n",
        "# === 2. 在庫更新 ===\n",
        "inventory_file = \"inventory.xlsx\"\n",
        "inventory_df = pd.read_excel(inventory_file)\n",
        "latest_inventory = inventory_df.iloc[-1, 2:]\n",
        "updated_inventory = latest_inventory - summary\n",
        "today = datetime.today().strftime(\"%Y-%m-%d\")\n",
        "new_row = pd.DataFrame([[len(inventory_df)+1, today] + updated_inventory.tolist()], columns=inventory_df.columns)\n",
        "inventory_df = pd.concat([inventory_df, new_row], ignore_index=True)\n",
        "inventory_df.to_excel(inventory_file, index=False)\n",
        "\n",
        "# === 3. 発注判定とメール文生成 ===\n",
        "pickup_df = pd.read_excel(\"pickup.xlsx\", header=None)\n",
        "vegetables = pickup_df.loc[0]\n",
        "thresholds = pickup_df.loc[1]\n",
        "remaining_stock = updated_inventory\n",
        "reorder_targets = {}\n",
        "for veg, threshold in zip(vegetables, thresholds):\n",
        "    stock = remaining_stock.get(veg, None)\n",
        "    if stock is not None and stock < threshold:\n",
        "        reorder_targets[veg] = {\"在庫\": stock, \"しきい値\": threshold}\n",
        "\n",
        "reorder_list = {veg: info[\"しきい値\"] - info[\"在庫\"] for veg, info in reorder_targets.items()}\n",
        "\n",
        "def generate_order_email(reorder_dict):\n",
        "    email_body = \"件名：野菜の追加発注のご連絡\\n\\n\"\n",
        "    email_body += \"いつもお世話になっております。\\n\"\n",
        "    email_body += \"以下の野菜について、在庫がしきい値を下回ったため、追加発注をお願い申し上げます。\\n\\n\"\n",
        "    email_body += \"【発注内容】\\n\"\n",
        "    for vegetable, amount in reorder_dict.items():\n",
        "        email_body += f\"・{vegetable}: {amount} kg\\n\"\n",
        "    email_body += \"\\nお手数ですが、明日午前中までの納品をお願いできれば幸いです。\\n\"\n",
        "    email_body += \"何卒よろしくお願いいたします。\\n\\n\"\n",
        "    email_body += \"野菜卸売り会社\\n担当：佐織\\n\"\n",
        "    return email_body\n",
        "\n",
        "order_email = generate_order_email(reorder_list)\n",
        "with open(\"order_email.txt\", \"w\", encoding=\"utf-8\") as f:\n",
        "    f.write(order_email)"
      ],
      "metadata": {
        "id": "4v0wmeWDLbuL"
      },
      "execution_count": 7,
      "outputs": []
    },
    {
      "cell_type": "code",
      "source": [
        "[\n",
        "  { \"Command\": \"open\", \"Target\": \"file:///C:/your_folder/\", \"Value\": \"\" },\n",
        "  { \"Command\": \"run\", \"Target\": \"cmd\", \"Value\": \"/c python C:\\\\your_folder\\\\auto_order.py\" },\n",
        "  { \"Command\": \"pause\", \"Target\": \"3000\", \"Value\": \"\" },\n",
        "  { \"Command\": \"echo\", \"Target\": \"Python script executed\", \"Value\": \"green\" }\n",
        "]"
      ],
      "metadata": {
        "colab": {
          "base_uri": "https://localhost:8080/"
        },
        "id": "ABvzd3ZHLgW_",
        "outputId": "4c775b3b-76fc-4829-cf12-41f14d2d30ac"
      },
      "execution_count": 8,
      "outputs": [
        {
          "output_type": "execute_result",
          "data": {
            "text/plain": [
              "[{'Command': 'open', 'Target': 'file:///C:/your_folder/', 'Value': ''},\n",
              " {'Command': 'run',\n",
              "  'Target': 'cmd',\n",
              "  'Value': '/c python C:\\\\your_folder\\\\auto_order.py'},\n",
              " {'Command': 'pause', 'Target': '3000', 'Value': ''},\n",
              " {'Command': 'echo', 'Target': 'Python script executed', 'Value': 'green'}]"
            ]
          },
          "metadata": {},
          "execution_count": 8
        }
      ]
    }
  ]
}