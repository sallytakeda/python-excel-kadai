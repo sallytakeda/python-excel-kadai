{
  "nbformat": 4,
  "nbformat_minor": 0,
  "metadata": {
    "colab": {
      "provenance": [],
      "authorship_tag": "ABX9TyNwBJBqzuRvL5iByXRe3sUS",
      "include_colab_link": true
    },
    "kernelspec": {
      "name": "python3",
      "display_name": "Python 3"
    },
    "language_info": {
      "name": "python"
    }
  },
  "cells": [
    {
      "cell_type": "markdown",
      "metadata": {
        "id": "view-in-github",
        "colab_type": "text"
      },
      "source": [
        "<a href=\"https://colab.research.google.com/github/sallytakeda/python-excel-kadai/blob/main/auto_order_py.ipynb\" target=\"_parent\"><img src=\"https://colab.research.google.com/assets/colab-badge.svg\" alt=\"Open In Colab\"/></a>"
      ]
    },
    {
      "cell_type": "markdown",
      "source": [],
      "metadata": {
        "id": "KBUwe_zJCTzJ"
      }
    },
    {
      "cell_type": "code",
      "source": [
        "import pandas as pd\n",
        "import datetime"
      ],
      "metadata": {
        "id": "HAlcYqwMI2U5"
      },
      "execution_count": 8,
      "outputs": []
    },
    {
      "cell_type": "code",
      "source": [
        "order_files = [\"order_A_20230524.xlsx\", \"order_B_20230524.xlsx\", \"order_C_20230524.xlsx\", \"order_D_20230524.xlsx\"]\n",
        "\n",
        "# 野菜ごとの注文合計を計算\n",
        "order_total = pd.Series(dtype=float)\n",
        "for file in order_files:\n",
        "    # Skip the header row by setting header=1\n",
        "    df = pd.read_excel(file, index_col=0, header=1)\n",
        "    # Access the second column by position (assuming it contains the order quantities)\n",
        "    order_quantities = df.iloc[:, 1]\n",
        "    # Convert the column to numeric, coercing errors to NaN\n",
        "    order_total = order_total.add(pd.to_numeric(order_quantities, errors='coerce'), fill_value=0)\n",
        "\n",
        "order_total = order_total.groupby(order_total.index).sum()"
      ],
      "metadata": {
        "id": "VthEMcYvI7yn"
      },
      "execution_count": 9,
      "outputs": []
    },
    {
      "cell_type": "code",
      "source": [
        "inventory_df = pd.read_excel(\"inventory.xlsx\")\n",
        "latest_inventory = inventory_df.iloc[-1, 2:]  # 日付・曜日を除いた野菜列"
      ],
      "metadata": {
        "id": "Fs_gh0xUI-GF"
      },
      "execution_count": 10,
      "outputs": []
    },
    {
      "cell_type": "code",
      "source": [
        "updated_inventory = latest_inventory.subtract(order_total, fill_value=0)"
      ],
      "metadata": {
        "id": "o8dUboXknql7"
      },
      "execution_count": 11,
      "outputs": []
    },
    {
      "cell_type": "code",
      "source": [
        "pickup_df = pd.read_excel(\"pickup.xlsx\", index_col=0)\n",
        "thresholds = pickup_df.loc[\"しきい値\"]\n",
        "replenishment = pickup_df.loc[\"追加量\"]\n",
        "\n",
        "# 発注が必要な野菜を抽出\n",
        "needs_order = updated_inventory[updated_inventory < thresholds.reindex(updated_inventory.index)]\n",
        "order_quantities = replenishment[needs_order.index]"
      ],
      "metadata": {
        "id": "urzTUmzFonfW"
      },
      "execution_count": 12,
      "outputs": []
    },
    {
      "cell_type": "code",
      "source": [
        "def create_order_email(order_items):\n",
        "    today = datetime.date.today().strftime(\"%Y/%m/%d\")\n",
        "    lines = [f\"{item}：{int(qty)}個\" for item, qty in order_items.items()]\n",
        "    body = f\"\"\"\n",
        "件名：{today} 野菜発注のご連絡\n",
        "\n",
        "以下の野菜について、在庫がしきい値を下回ったため、発注をお願いいたします。\n",
        "\n",
        "{chr(10).join(lines)}\n",
        "\n",
        "何卒よろしくお願いいたします。\n",
        "\"\"\"\n",
        "    return body\n",
        "\n",
        "email_text = create_order_email(order_quantities.to_dict())\n",
        "print(email_text)"
      ],
      "metadata": {
        "colab": {
          "base_uri": "https://localhost:8080/"
        },
        "id": "G46PypIdo8Kf",
        "outputId": "1f6d3c89-c58f-4847-b615-bf54b8178885"
      },
      "execution_count": 13,
      "outputs": [
        {
          "output_type": "stream",
          "name": "stdout",
          "text": [
            "\n",
            "件名：2025/09/20 野菜発注のご連絡\n",
            "\n",
            "以下の野菜について、在庫がしきい値を下回ったため、発注をお願いいたします。\n",
            "\n",
            "\n",
            "\n",
            "何卒よろしくお願いいたします。\n",
            "\n"
          ]
        }
      ]
    },
    {
      "cell_type": "code",
      "source": [
        "new_row = [datetime.date.today(), datetime.date.today().strftime(\"%a\")] + updated_inventory.tolist()\n",
        "inventory_df.loc[len(inventory_df)] = new_row\n",
        "inventory_df.to_excel(\"inventory.xlsx\", index=False)"
      ],
      "metadata": {
        "id": "gcXViXl6pAkm"
      },
      "execution_count": 14,
      "outputs": []
    },
    {
      "cell_type": "code",
      "source": [
        "{\n",
        "  \"Name\": \"RunPythonScript\",\n",
        "  \"CreationDate\": \"2025-09-16\",\n",
        "  \"Commands\": [\n",
        "    {\n",
        "      \"Command\": \"open\",\n",
        "      \"Target\": \"file:///C:/Users/Saori/Documents/auto_order.py\",\n",
        "      \"Value\": \"\"\n",
        "    },\n",
        "    {\n",
        "      \"Command\": \"run\",\n",
        "      \"Target\": \"cmd\",\n",
        "      \"Value\": \"/c python C:\\\\Users\\\\Saori\\\\Documents\\\\auto_order.py\"\n",
        "    }\n",
        "  ]\n",
        "}"
      ],
      "metadata": {
        "colab": {
          "base_uri": "https://localhost:8080/"
        },
        "id": "fkI-ZqUlqzVB",
        "outputId": "9e7b0d3a-98ec-4da0-823f-38ee0c218e53"
      },
      "execution_count": 15,
      "outputs": [
        {
          "output_type": "execute_result",
          "data": {
            "text/plain": [
              "{'Name': 'RunPythonScript',\n",
              " 'CreationDate': '2025-09-16',\n",
              " 'Commands': [{'Command': 'open',\n",
              "   'Target': 'file:///C:/Users/Saori/Documents/auto_order.py',\n",
              "   'Value': ''},\n",
              "  {'Command': 'run',\n",
              "   'Target': 'cmd',\n",
              "   'Value': '/c python C:\\\\Users\\\\Saori\\\\Documents\\\\auto_order.py'}]}"
            ]
          },
          "metadata": {},
          "execution_count": 15
        }
      ]
    },
    {
      "cell_type": "code",
      "source": [
        "!@echo off\n",
        "!cd \"C:\\Users\\Saori\\Documents\\UIVision\"\n",
        "!start \"\" \"C:\\Program Files\\Google\\Chrome\\Application\\chrome.exe\" \"file:///C:/Users/Saori/Documents/UIVision/RunPythonScript.html\""
      ],
      "metadata": {
        "colab": {
          "base_uri": "https://localhost:8080/"
        },
        "id": "fakkGXOUrYKk",
        "outputId": "8595c9fe-3655-47a9-b157-22bd4ba9f6ff"
      },
      "execution_count": 16,
      "outputs": [
        {
          "output_type": "stream",
          "name": "stdout",
          "text": [
            "/bin/bash: line 1: @echo: command not found\n",
            "/bin/bash: line 1: cd: C:\\Users\\Saori\\Documents\\UIVision: No such file or directory\n",
            "/bin/bash: line 1: start: command not found\n"
          ]
        }
      ]
    }
  ]
}