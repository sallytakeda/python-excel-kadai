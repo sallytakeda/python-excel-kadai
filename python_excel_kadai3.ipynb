{
  "nbformat": 4,
  "nbformat_minor": 0,
  "metadata": {
    "colab": {
      "provenance": [],
      "authorship_tag": "ABX9TyMfcAlgCzFMW5v3mbAvyS2j",
      "include_colab_link": true
    },
    "kernelspec": {
      "name": "python3",
      "display_name": "Python 3"
    },
    "language_info": {
      "name": "python"
    }
  },
  "cells": [
    {
      "cell_type": "markdown",
      "metadata": {
        "id": "view-in-github",
        "colab_type": "text"
      },
      "source": [
        "<a href=\"https://colab.research.google.com/github/sallytakeda/python-excel-kadai/blob/main/python_excel_kadai3.ipynb\" target=\"_parent\"><img src=\"https://colab.research.google.com/assets/colab-badge.svg\" alt=\"Open In Colab\"/></a>"
      ]
    },
    {
      "cell_type": "code",
      "execution_count": 1,
      "metadata": {
        "colab": {
          "base_uri": "https://localhost:8080/"
        },
        "id": "PhHvwfoaEWRt",
        "outputId": "2d8250a5-8b6e-44fd-b96c-027defdcbba6"
      },
      "outputs": [
        {
          "output_type": "stream",
          "name": "stdout",
          "text": [
            "          商品   売上年  金額（千円）\n",
            "0   アロマキャンドル  2022    1710\n",
            "1   アロマキャンドル  2023     900\n",
            "2      コーヒー豆  2023     860\n",
            "3       セッケン  2022    1300\n",
            "4       セッケン  2023    1300\n",
            "5       ハチミツ  2022    1860\n",
            "6       ハチミツ  2023    1000\n",
            "7      フライパン  2023     670\n",
            "8     ワイングラス  2022     850\n",
            "9     ワイングラス  2023     850\n",
            "10        包丁  2022     940\n",
            "11        包丁  2023     940\n",
            "12        水筒  2022    1150\n",
            "13        水筒  2023    1400\n",
            "14        紅茶  2022    2000\n",
            "15        紅茶  2023    1870\n"
          ]
        }
      ],
      "source": [
        "import pandas as pd\n",
        "\n",
        "# 1. エクセルファイルを読み込み\n",
        "df_2022 = pd.read_excel(\"2022_年間売上表.xlsx\", sheet_name=\"Sheet1\")\n",
        "df_2023 = pd.read_excel(\"2023_年間売上表.xlsx\", sheet_name=\"Sheet1\")\n",
        "\n",
        "# 2. データフレームを縦方向に連結\n",
        "df_all = pd.concat([df_2022, df_2023], ignore_index=True)\n",
        "\n",
        "# 3. 「商品」「売上年」ごとに集計\n",
        "df_grouped = df_all.groupby([\"商品\", \"売上年\"], as_index=False)[\"金額（千円）\"].sum()\n",
        "\n",
        "# 結果を表示\n",
        "print(df_grouped)\n",
        "\n",
        "# 必要に応じてエクセル出力\n",
        "df_grouped.to_excel(\"年間売上集計.xlsx\", index=False)\n"
      ]
    },
    {
      "cell_type": "code",
      "source": [
        "import pandas as pd\n",
        "from openpyxl import load_workbook\n",
        "from openpyxl.styles import PatternFill\n",
        "\n",
        "# ====== 1. pandasでデータ読み込みと集計 ======\n",
        "# 2022年・2023年データを読み込み\n",
        "df_2022 = pd.read_excel(\"2022_年間売上表.xlsx\", sheet_name=\"Sheet1\")\n",
        "df_2023 = pd.read_excel(\"2023_年間売上表.xlsx\", sheet_name=\"Sheet1\")\n",
        "\n",
        "# データ連結\n",
        "df_all = pd.concat([df_2022, df_2023], ignore_index=True)\n",
        "\n",
        "# 「商品」「売上年」でグループ化して合計\n",
        "df_grouped = df_all.groupby([\"商品\", \"売上年\"], as_index=False)[\"金額（千円）\"].sum()\n",
        "\n",
        "# ====== 2. Excelに書き込み ======\n",
        "output_file = \"売上集計表.xlsx\"\n",
        "df_grouped.to_excel(output_file, index=False)\n",
        "\n",
        "# ====== 3. openpyxlでヘッダー部分をフォーマット設定 ======\n",
        "# 保存したファイルを開く\n",
        "wb = load_workbook(output_file)\n",
        "ws = wb.active\n",
        "\n",
        "# ヘッダー行を薄いグレー（#F2F2F2）に設定\n",
        "fill = PatternFill(start_color=\"F2F2F2\", end_color=\"F2F2F2\", fill_type=\"solid\")\n",
        "for cell in ws[1]:  # 1行目（ヘッダー）\n",
        "    cell.fill = fill\n",
        "\n",
        "# ====== 4. 保存 ======\n",
        "wb.save(output_file)\n"
      ],
      "metadata": {
        "id": "aJZUP-KEI0uo"
      },
      "execution_count": 3,
      "outputs": []
    }
  ]
}